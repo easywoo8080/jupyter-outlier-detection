{
 "cells": [
  {
   "cell_type": "code",
   "execution_count": 1,
   "id": "222f8b38-5d8b-454b-b9c4-839afbbf9cd6",
   "metadata": {},
   "outputs": [
    {
     "name": "stdout",
     "output_type": "stream",
     "text": [
      "Accuracy: 1.0000\n"
     ]
    }
   ],
   "source": [
    "import sys\n",
    "from pathlib import Path\n",
    "\n",
    "# 🔹 반드시 import 전에 sys.path 조정\n",
    "root_path = Path().resolve().parent.parent\n",
    "if str(root_path) not in sys.path:\n",
    "    sys.path.insert(0, str(root_path))\n",
    "from src.boosting import XGBoost\n",
    "from src.imputation import knn_imputer as knn\n",
    "\n",
    "import pandas as pd  \n",
    "import numpy as np\n",
    "from sklearn.metrics import mean_squared_error\n",
    "\n",
    "from sklearn.datasets import load_iris\n",
    "from typing import Union\n",
    "\n",
    "def load_time_series_from_csv(\n",
    "    file_path: str,\n",
    "    skiprows: range,\n",
    "    nrows: int,\n",
    "    time_col: str = 'msur_dt',\n",
    "    value_cols: Union[str, tuple[str, ...], dict[str, str]] = 'inflow_flux_tot',\n",
    "    freq: str = 'min'\n",
    ") -> Union[pd.Series, dict[str, pd.Series]]:\n",
    "    df = pd.read_csv(file_path, skiprows=skiprows, nrows=nrows)\n",
    "    df[time_col] = pd.to_datetime(df[time_col])\n",
    "    dt_index = pd.DatetimeIndex(df[time_col], freq=freq)\n",
    "\n",
    "    \n",
    "    if isinstance(value_cols, str):\n",
    "        return pd.Series(df[value_cols].values, index=dt_index)\n",
    "    \n",
    "    elif isinstance(value_cols, tuple):\n",
    "        # 튜플이면 여러 컬럼을 dict로 반환\n",
    "        return {col: pd.Series(df[col].values, index=dt_index) for col in value_cols}\n",
    "    \n",
    "    elif isinstance(value_cols, dict):\n",
    "        # dict일 경우 key: 시리즈 이름, value: 컬럼명\n",
    "        return {key: pd.Series(df[col].values, index=dt_index) for key, col in value_cols.items()}\n",
    "    \n",
    "    else:\n",
    "        raise TypeError(\"value_cols는 str, tuple[str, ...], dict[str, str] 중 하나여야 합니다.\")\n",
    "\n",
    "X, y = load_iris(return_X_y=True)\n",
    "acc = XGBoost.train_xgboost_classifier(X, y)\n",
    "print(f\"Accuracy: {acc:.4f}\")\n",
    "\n"
   ]
  },
  {
   "cell_type": "code",
   "execution_count": 2,
   "id": "6e3caee8-7826-4f09-a949-ba913eabe224",
   "metadata": {},
   "outputs": [
    {
     "name": "stdout",
     "output_type": "stream",
     "text": [
      "                     inflow_toc_load_fst  inflow_ss_dnsty_fst\n",
      "msur_dt                                                      \n",
      "2025-05-25 00:00:00              1075.88               441.63\n",
      "2025-05-25 00:01:00              1076.18               442.61\n",
      "2025-05-25 00:02:00              1075.12               441.36\n",
      "2025-05-25 00:03:00              1076.64               441.33\n",
      "2025-05-25 00:04:00              1088.77               441.75\n",
      "2025-05-25 00:05:00              1093.05               444.34\n",
      "2025-05-25 00:06:00              1102.68               448.70\n",
      "2025-05-25 00:07:00              1109.69               450.09\n",
      "2025-05-25 00:08:00              1121.81               454.30\n",
      "2025-05-25 00:09:00              1129.87               457.55\n",
      "2025-05-25 00:10:00              1143.18               462.81\n",
      "2025-05-25 00:11:00              1165.14               463.50\n",
      "2025-05-25 00:12:00              1168.46               464.07\n",
      "2025-05-25 00:13:00              1162.49               459.86\n"
     ]
    }
   ],
   "source": [
    "# 데이터 호출\n",
    "file_path = r'D:\\dev\\modules\\pt_eh_inflow_data.csv'\n",
    "series = load_time_series_from_csv(\n",
    "    file_path=r'D:\\dev\\modules\\pt_eh_inflow_data.csv',\n",
    "    skiprows=range(1, 14401 + (1440 * 7) * 2),\n",
    "    nrows=14,\n",
    "    time_col='msur_dt',\n",
    "    value_cols=('inflow_flux_tot', 'inflow_toc_load_fst', 'inflow_ss_dnsty_fst'),\n",
    "    freq='min'\n",
    ")\n",
    "# X_raw를 DataFrame으로 생성\n",
    "X_raw = pd.DataFrame({\n",
    "    'inflow_toc_load_fst': series['inflow_toc_load_fst'],\n",
    "    'inflow_ss_dnsty_fst': series['inflow_ss_dnsty_fst']\n",
    "})\n",
    "print(X_raw)\n",
    "\n",
    "# 목표값 y: 예측하려는 대상\n",
    "y = series['inflow_flux_tot'].to_numpy()\n"
   ]
  },
  {
   "cell_type": "code",
   "execution_count": 3,
   "id": "d274a1bc-e3ce-41cf-a15b-db4b08708ce5",
   "metadata": {},
   "outputs": [
    {
     "name": "stdout",
     "output_type": "stream",
     "text": [
      "                     inflow_toc_load_fst  inflow_ss_dnsty_fst\n",
      "msur_dt                                                      \n",
      "2025-05-25 00:00:00              1075.88               441.63\n",
      "2025-05-25 00:01:00              1076.18               442.61\n",
      "2025-05-25 00:02:00              1075.12                  NaN\n",
      "2025-05-25 00:03:00              1076.64                  NaN\n",
      "2025-05-25 00:04:00              1088.77               441.75\n",
      "2025-05-25 00:05:00              1093.05                  NaN\n",
      "2025-05-25 00:06:00              1102.68               448.70\n",
      "2025-05-25 00:07:00              1109.69               450.09\n",
      "2025-05-25 00:08:00              1121.81               454.30\n",
      "2025-05-25 00:09:00              1129.87               457.55\n",
      "2025-05-25 00:10:00              1143.18               462.81\n",
      "2025-05-25 00:11:00              1165.14               463.50\n",
      "2025-05-25 00:12:00              1168.46               464.07\n",
      "2025-05-25 00:13:00              1162.49               459.86\n",
      "                     inflow_toc_load_fst  inflow_ss_dnsty_fst\n",
      "msur_dt                                                      \n",
      "2025-05-25 00:00:00              1075.88           441.630000\n",
      "2025-05-25 00:01:00              1076.18           442.610000\n",
      "2025-05-25 00:02:00              1075.12           441.996667\n",
      "2025-05-25 00:03:00              1076.64           441.996667\n",
      "2025-05-25 00:04:00              1088.77           441.750000\n",
      "2025-05-25 00:05:00              1093.05           446.846667\n",
      "2025-05-25 00:06:00              1102.68           448.700000\n",
      "2025-05-25 00:07:00              1109.69           450.090000\n",
      "2025-05-25 00:08:00              1121.81           454.300000\n",
      "2025-05-25 00:09:00              1129.87           457.550000\n",
      "2025-05-25 00:10:00              1143.18           462.810000\n",
      "2025-05-25 00:11:00              1165.14           463.500000\n",
      "2025-05-25 00:12:00              1168.46           464.070000\n",
      "2025-05-25 00:13:00              1162.49           459.860000\n"
     ]
    }
   ],
   "source": [
    "\n",
    "# knn으로 결측치 보정\n",
    "# 예: 첫 번째 행, 두 번째 컬럼에 NaN 넣기\n",
    "X_raw.iloc[3, 1] = np.nan\n",
    "X_raw.iloc[2, 1] = np.nan\n",
    "X_raw.iloc[5, 1] = np.nan\n",
    "\n",
    "\n",
    "# ✅ KNN Imputer 적용\n",
    "X_imputed = knn.knn_impute(X_raw, n_neighbors=3)\n",
    "\n",
    "# numpy 변환\n",
    "X = X_imputed.to_numpy()\n",
    "print(X_raw)\n",
    "print(X_imputed)\n"
   ]
  },
  {
   "cell_type": "code",
   "execution_count": 4,
   "id": "06960494-9276-43a6-8fd7-5532ce96f623",
   "metadata": {},
   "outputs": [
    {
     "name": "stdout",
     "output_type": "stream",
     "text": [
      "Accuracy: 20.3047\n",
      "평균 대비 RMSE 비율: 2.44%\n"
     ]
    }
   ],
   "source": [
    "\n",
    "# 학습 및 평가\n",
    "acc = XGBoost.train_xgboost_regressor(X, y)\n",
    "print(f\"Accuracy: {acc:.4f}\")\n",
    "\n",
    "mean_y = np.mean(y)\n",
    "rmse = acc\n",
    "error_ratio = (rmse / mean_y) * 100\n",
    "print(f\"평균 대비 RMSE 비율: {error_ratio:.2f}%\")\n"
   ]
  }
 ],
 "metadata": {
  "kernelspec": {
   "display_name": "Python 3 (ipykernel)",
   "language": "python",
   "name": "python3"
  },
  "language_info": {
   "codemirror_mode": {
    "name": "ipython",
    "version": 3
   },
   "file_extension": ".py",
   "mimetype": "text/x-python",
   "name": "python",
   "nbconvert_exporter": "python",
   "pygments_lexer": "ipython3",
   "version": "3.13.3"
  }
 },
 "nbformat": 4,
 "nbformat_minor": 5
}
