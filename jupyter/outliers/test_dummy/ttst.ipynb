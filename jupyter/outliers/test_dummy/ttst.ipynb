{
 "cells": [
  {
   "cell_type": "code",
   "execution_count": null,
   "id": "a8b44050-f1f3-4059-ae18-cda2beef1d31",
   "metadata": {},
   "outputs": [
    {
     "name": "stdout",
     "output_type": "stream",
     "text": [
      "ateadatg\n"
     ]
    }
   ],
   "source": [
    "print('ttest')"
   ]
  },
  {
   "cell_type": "code",
   "execution_count": null,
   "id": "2a0f4407-581c-479e-a358-716cc6cdb19b",
   "metadata": {},
   "outputs": [],
   "source": [
    "print('ttest')\n"
   ]
  }
 ],
 "metadata": {
  "kernelspec": {
   "display_name": "Python 3 (ipykernel)",
   "language": "python",
   "name": "python3"
  },
  "language_info": {
   "codemirror_mode": {
    "name": "ipython",
    "version": 3
   },
   "file_extension": ".py",
   "mimetype": "text/x-python",
   "name": "python",
   "nbconvert_exporter": "python",
   "pygments_lexer": "ipython3",
   "version": "3.13.3"
  }
 },
 "nbformat": 4,
 "nbformat_minor": 5
}
